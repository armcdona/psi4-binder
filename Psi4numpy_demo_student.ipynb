{
 "cells": [
  {
   "cell_type": "markdown",
   "metadata": {},
   "source": [
    "# Psi4Numpy Demo\n",
    "In this lesson we will demonstrate how to run basic calculations in psi4, calculate a PES, and fit that surface to a Lennard-Jones function.  "
   ]
  },
  {
   "cell_type": "code",
   "execution_count": null,
   "metadata": {},
   "outputs": [],
   "source": [
    "import psi4\n",
    "import numpy\n",
    "import matplotlib.pyplot as plt\n",
    "from scipy.optimize import curve_fit"
   ]
  },
  {
   "cell_type": "code",
   "execution_count": null,
   "metadata": {},
   "outputs": [],
   "source": [
    "he = psi4.geometry(\"\"\"\n",
    "He\n",
    "\"\"\")"
   ]
  },
  {
   "cell_type": "code",
   "execution_count": null,
   "metadata": {},
   "outputs": [],
   "source": [
    "energy_he = psi4.energy('scf/cc-pVDZ', molecule=he)\n",
    "print(F'Done calculating energy! The energy in Hartree is {energy_he:.5f}.')"
   ]
  },
  {
   "cell_type": "code",
   "execution_count": null,
   "metadata": {},
   "outputs": [],
   "source": [
    "h2o = psi4.geometry(\"\"\"\n",
    "O\n",
    "H 1 0.96\n",
    "H 1 0.96 2 104.5\n",
    "\"\"\")"
   ]
  },
  {
   "cell_type": "code",
   "execution_count": null,
   "metadata": {},
   "outputs": [],
   "source": [
    "energy_h2o_optimized = psi4.optimize('scf/cc-pVDZ', molecule=h2o)\n",
    "print(F'Energy of optimized H2O is {energy_h2o_optimized}.')"
   ]
  },
  {
   "cell_type": "code",
   "execution_count": null,
   "metadata": {},
   "outputs": [],
   "source": [
    "he_dimer = psi4.geometry(\"\"\"\n",
    "He\n",
    "--\n",
    "He 1 1.0\n",
    "\"\"\")\n",
    "int_energy = psi4.energy('MP2/aug-cc-pVDZ', molecule=he_dimer, bsse_type='cp')\n",
    "int_energy = int_energy*219474.6  # in wavenumbers \n",
    "print(F'The interaction energy in wavenumbers is {int_energy}.')"
   ]
  },
  {
   "cell_type": "markdown",
   "metadata": {},
   "source": [
    "Now that we know how to run an interaction energy calculation, we can calculate a potential energy surface by calculating the interaction energy at many different internuclear separations.  Is the smart way to do this to copy and paste the code block above and change the number a bunch of times?  NO!  We should make a list of the distances we want to use for the internuclear separations and then use a for loop to run our calculations for each of those distances.  Complete the code block below to calculate the energies and append them to a new list called energies. When you have finished the calculations, make a graph of the energy (y) vs. internuclear separation (x).  "
   ]
  },
  {
   "cell_type": "code",
   "execution_count": null,
   "metadata": {},
   "outputs": [],
   "source": [
    "he_dimer_template = \"\"\"\n",
    "He\n",
    "--\n",
    "He 1 **R**\n",
    "\"\"\"\n",
    "\n",
    "distances = [2.875, 3.0, 3.125, 3.25, 3.375, 3.5, 3.75, 4.0, 4.5, 5.0, 6.0]  # in angstoms\n",
    "energies = []\n",
    "\n",
    "for d in distances:\n",
    "    mol = psi4.geometry(he_dimer_template.replace('**R**', str(d)))\n",
    "    #Write your code here; insert additional cells if needed\n",
    "    "
   ]
  },
  {
   "cell_type": "markdown",
   "metadata": {},
   "source": [
    "Now that we have our PES calculated, we want to fit it to a Morse potential.  We will learn how to use a new function from the scipy library to do this in a moment, but first we need to define the function we want to fit.  Write a function for the Lennard-Jones function.\n",
    "$$ V = 4 \\varepsilon \\left[ \\left( \\frac{\\sigma}{r} \\right)^{12} - \\left( \\frac{\\sigma}{r} \\right)^6 \\right] $$\n",
    "Your function should accept three inputs: a list of r values, $\\sigma$, and $\\varepsilon$.  Eventually, we will be finding the values of $\\sigma$ and $\\varepsilon$ that best fit our data."
   ]
  },
  {
   "cell_type": "code",
   "execution_count": null,
   "metadata": {},
   "outputs": [],
   "source": [
    "# Write you function here.  For consistency later, name it LJ_func\n",
    "\n"
   ]
  },
  {
   "cell_type": "markdown",
   "metadata": {},
   "source": [
    "Now we will use a function called `curve_fit` from the library `scipy` to fit our data to the Lennard-Jones functional form.  You may have noticed that we imported this function at the top of the notebook.  Since `scipy` is a large library and we just want to use one particular function, we just imported the one function we plan to use."
   ]
  },
  {
   "cell_type": "code",
   "execution_count": null,
   "metadata": {},
   "outputs": [],
   "source": [
    "params, variance = curve_fit(LJ_func, distances, energies)\n",
    "calc_epsilon=params[0]\n",
    "calc_sigma = params[1]\n",
    "print(F'epsilon={calc_epsilon:.3f} sigma={calc_sigma:.3f}')"
   ]
  },
  {
   "cell_type": "markdown",
   "metadata": {},
   "source": [
    "Finally we want to assess the quality of our fit.  To do this, we want to use our function we wrote before and the cacluated $\\varepsilion$ and $\\sigma$ parameters to graph our fit curve."
   ]
  },
  {
   "cell_type": "code",
   "execution_count": null,
   "metadata": {},
   "outputs": [],
   "source": [
    "rpoints = numpy.linspace(2.875,7.0,100)\n",
    "fit_energies = LJ_func(rpoints,calc_epsilon,calc_sigma)\n",
    "plt.scatter(distances,energies)\n",
    "plt.plot(rpoints,fit_energies)"
   ]
  }
 ],
 "metadata": {
  "kernelspec": {
   "display_name": "Python 3",
   "language": "python",
   "name": "python3"
  },
  "language_info": {
   "codemirror_mode": {
    "name": "ipython",
    "version": 3
   },
   "file_extension": ".py",
   "mimetype": "text/x-python",
   "name": "python",
   "nbconvert_exporter": "python",
   "pygments_lexer": "ipython3",
   "version": "3.7.6"
  }
 },
 "nbformat": 4,
 "nbformat_minor": 2
}
